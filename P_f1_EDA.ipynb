{
  "nbformat": 4,
  "nbformat_minor": 5,
  "metadata": {
    "kernelspec": {
      "display_name": "Python 3",
      "language": "python",
      "name": "python3"
    },
    "language_info": {
      "codemirror_mode": {
        "name": "ipython",
        "version": 3
      },
      "file_extension": ".py",
      "mimetype": "text/x-python",
      "name": "python",
      "nbconvert_exporter": "python",
      "pygments_lexer": "ipython3",
      "version": "3.7.6"
    },
    "colab": {
      "name": "P_f1_EDA.ipynb",
      "provenance": [],
      "collapsed_sections": [],
      "include_colab_link": true
    }
  },
  "cells": [
    {
      "cell_type": "markdown",
      "metadata": {
        "id": "view-in-github",
        "colab_type": "text"
      },
      "source": [
        "<a href=\"https://colab.research.google.com/github/yonatanrtt/sentiment-analysis/blob/main/P_f1_EDA.ipynb\" target=\"_parent\"><img src=\"https://colab.research.google.com/assets/colab-badge.svg\" alt=\"Open In Colab\"/></a>"
      ]
    },
    {
      "cell_type": "markdown",
      "metadata": {
        "id": "H7jT8Bjqe-Fx"
      },
      "source": [
        "<b><h1> Intro </h1>\n",
        "this project demonstrates a problem from the nlp world.\n",
        "\n",
        "<b><h1> the problem </h1>\n",
        "classify each IMDB movie review as positive or negative <br/>\n",
        "the input is a movie or tv series review and the output will be positive or negative classification.\n",
        "\n",
        "\n",
        "<b><h1> motivation </h1>\n",
        "classification of natural language text to positive and negative can help in many fields, for example:\n",
        "\n",
        "- many sites have comment section, if the company wants to see how many bad comments they get for having better understanding of reasons behind it, the first thing will be to classify the comments for positive \\ negative\n",
        "\n",
        "- many sites have comment section for every item, the nuber of positive comments for an item can be used as a feature for recommender system.\n",
        "\n",
        "- many sites (like facebook) try to find inappropriate and offensive posts. this is a different task but I belive this project will be similar, and this task might help solve the second task \n",
        "\n",
        "<b><h1> data </h1>\n",
        "imdb reviews. <br/>\n",
        "25K of positive reviews. <br/>\n",
        "25K of negative reviews. <br/> <b>"
      ],
      "id": "H7jT8Bjqe-Fx"
    },
    {
      "cell_type": "markdown",
      "metadata": {
        "id": "fsheg3uqe-F5"
      },
      "source": [
        "<b><h2><b>EDA - exploratory data analysis</b></h2>\n",
        "\n",
        "In this notebook, the data will be explored</b>"
      ],
      "id": "fsheg3uqe-F5"
    },
    {
      "cell_type": "code",
      "metadata": {
        "id": "OY7e7SSXe-F5"
      },
      "source": [
        "# import packages\n",
        "import pandas as pd\n",
        "import re\n",
        "from math import *\n",
        "import matplotlib.pyplot as plt\n",
        "import numpy as np\n",
        "from sklearn.feature_extraction.text import CountVectorizer\n",
        "from sklearn.feature_extraction.text import TfidfVectorizer"
      ],
      "id": "OY7e7SSXe-F5",
      "execution_count": null,
      "outputs": []
    },
    {
      "cell_type": "code",
      "metadata": {
        "colab": {
          "base_uri": "https://localhost:8080/"
        },
        "id": "gp3AtqyIe-F7",
        "outputId": "c53754ce-fd51-4ba0-f46e-cae33bd922df"
      },
      "source": [
        "from google.colab import  drive\n",
        "drive.mount(\"/drive\")\n",
        "all_data = pd.read_csv(\"/drive/My Drive/data.csv\")"
      ],
      "id": "gp3AtqyIe-F7",
      "execution_count": null,
      "outputs": [
        {
          "output_type": "stream",
          "name": "stdout",
          "text": [
            "Mounted at /drive\n"
          ]
        }
      ]
    },
    {
      "cell_type": "markdown",
      "metadata": {
        "id": "tmnrTDQue-F7"
      },
      "source": [
        "<b><h3>First Step:</h3>\n",
        "\n",
        "for every category exploring the reviews length stats </b>"
      ],
      "id": "tmnrTDQue-F7"
    },
    {
      "cell_type": "code",
      "metadata": {
        "id": "307PuqLGe-F8"
      },
      "source": [
        "def print_graph(p, n, a, features):\n",
        "    positive_vec = [p[f] for f in features]\n",
        "    negative_vec = [n[f] for f in features]\n",
        "    all_vec = [a[f] for f in features]\n",
        "    \n",
        "    # create data\n",
        "    x = np.arange(len(features))\n",
        "    width = 0.2\n",
        "\n",
        "    plt.figure(figsize=(20,5))\n",
        "    # plot data in grouped manner of bar type\n",
        "    plt.bar(x-0.2, positive_vec, width, color='blue')\n",
        "    plt.bar(x + 0, negative_vec, width, color='maroon')\n",
        "    plt.bar(x + 0.2, all_vec, width, color='orange')\n",
        "    plt.xticks(x, features)\n",
        "    plt.xlabel(\"\")\n",
        "    plt.ylabel(\"\")\n",
        "    plt.legend([\"Positive\", \"Negative\", \"all\"])\n",
        "    plt.show()"
      ],
      "id": "307PuqLGe-F8",
      "execution_count": null,
      "outputs": []
    },
    {
      "cell_type": "code",
      "metadata": {
        "id": "fFwUMrxCe-F9"
      },
      "source": [
        "# filter data by type\n",
        "def filter_data(type):\n",
        "    return pd.DataFrame(all_data[all_data[\"sentiment\"]==type][\"review\"])"
      ],
      "id": "fFwUMrxCe-F9",
      "execution_count": null,
      "outputs": []
    },
    {
      "cell_type": "code",
      "metadata": {
        "id": "HXIe_o60e-F-"
      },
      "source": [
        "positive = filter_data(\"positive\")\n",
        "negative = filter_data(\"negative\")\n",
        "all_data = pd.concat([positive, negative])"
      ],
      "id": "HXIe_o60e-F-",
      "execution_count": null,
      "outputs": []
    },
    {
      "cell_type": "markdown",
      "metadata": {
        "id": "HdcRsp_z20Ag"
      },
      "source": [
        "<b>review length will be defined by the number of words it contains"
      ],
      "id": "HdcRsp_z20Ag"
    },
    {
      "cell_type": "code",
      "metadata": {
        "id": "4Bi4RQW7e-F_"
      },
      "source": [
        "# create df by txt lenth only\n",
        "positive_len = positive.applymap(lambda x: len(str(x).split(\" \")))\n",
        "negative_len = negative.applymap(lambda x: len(str(x).split(\" \")))\n",
        "all_data_len = all_data.applymap(lambda x: len(str(x).split(\" \")))"
      ],
      "id": "4Bi4RQW7e-F_",
      "execution_count": null,
      "outputs": []
    },
    {
      "cell_type": "code",
      "metadata": {
        "id": "OFf5atLne-GA"
      },
      "source": [
        "def print_stats(df):\n",
        "    return dict(mean=df.mean()[0], sum=df.sum()[0], median=df.median()[0], count=df.count()[0], std=df.std()[0])"
      ],
      "id": "OFf5atLne-GA",
      "execution_count": null,
      "outputs": []
    },
    {
      "cell_type": "code",
      "metadata": {
        "id": "pa-cQFFae-GA"
      },
      "source": [
        "positive_len_stats = print_stats(positive_len)\n",
        "negative_len_stats =print_stats(negative_len)\n",
        "all_len_stats = print_stats(all_data_len)"
      ],
      "id": "pa-cQFFae-GA",
      "execution_count": null,
      "outputs": []
    },
    {
      "cell_type": "markdown",
      "metadata": {
        "id": "W3gboB_WuffI"
      },
      "source": [
        "<b>print on one graph the mean and the median of the reviews length of every category and of the entire data <br/> <br/>\n",
        "if there's a large difference between the columns it might suggest that the length is a good feature for the vector that will represent the text <br/> <br/> \n",
        "if one of the category has much larger std than the other one it might change the the understanding of the mean and median</b>"
      ],
      "id": "W3gboB_WuffI"
    },
    {
      "cell_type": "code",
      "metadata": {
        "colab": {
          "base_uri": "https://localhost:8080/",
          "height": 320
        },
        "id": "QgoxTjUte-GB",
        "outputId": "afc3ce93-e117-45b4-b5bb-c65ad5d36ed9"
      },
      "source": [
        "print_graph(positive_len_stats, negative_len_stats, all_len_stats, [\"mean\", \"median\"])"
      ],
      "id": "QgoxTjUte-GB",
      "execution_count": null,
      "outputs": [
        {
          "output_type": "display_data",
          "data": {
            "image/png": "[encoded data removed]",
            "text/plain": [
              "<Figure size 1440x360 with 1 Axes>"
            ]
          },
          "metadata": {
            "needs_background": "light"
          }
        }
      ]
    },
    {
      "cell_type": "code",
      "metadata": {
        "colab": {
          "base_uri": "https://localhost:8080/",
          "height": 320
        },
        "id": "BkYWg2FQe-GB",
        "outputId": "f95259c3-18f1-4e0b-a935-044fd9ab09d5"
      },
      "source": [
        "print_graph(positive_len_stats, negative_len_stats, all_len_stats, [\"std\"])"
      ],
      "id": "BkYWg2FQe-GB",
      "execution_count": null,
      "outputs": [
        {
          "output_type": "display_data",
          "data": {
            "image/png": "[encoded data removed]",
            "text/plain": [
              "<Figure size 1440x360 with 1 Axes>"
            ]
          },
          "metadata": {
            "needs_background": "light"
          }
        }
      ]
    },
    {
      "cell_type": "markdown",
      "metadata": {
        "id": "FAPKjGzDe-GC"
      },
      "source": [
        "<b><h3>conclusion for the first step</h3>\n",
        "it seems like the reviews lenth is almost the same at all of the categories, so it does not give a lot of inforamtion for the classification</b>"
      ],
      "id": "FAPKjGzDe-GC"
    },
    {
      "cell_type": "markdown",
      "metadata": {
        "id": "zN1vo2TPe-GC"
      },
      "source": [
        "<b><h3>Second Step:</h3>\n",
        "exploring the words stats <br/>\n",
        "\n",
        "one of the most important factors that inﬂuences the model in nlp is the preprocessing. <br/>\n",
        "one of the most important factors of good preprocessing in the world of nlp is cleaning the text <br/>\n",
        "in the EDA and in the rest of the project it will be done using the following: <br/> \n",
        "- change new line by html to word <br/>\n",
        "- remove all other html tags <br/>\n",
        "- remove the spaces before and after the text <br/>\n",
        "- change all text ( english language only ) to lower case <br/>\n",
        "- separate punctuation from words <br/>\n",
        "- remove digits <br/>\n",
        "- remove unneed spaces <br/>\n",
        "\n",
        "in addition to cleaning the text, stop words will be removed. <br/>\n",
        "stop words are a list of some of the most common words in the language. removing those words will help the model focus on more important features.</b>"
      ],
      "id": "zN1vo2TPe-GC"
    },
    {
      "cell_type": "code",
      "metadata": {
        "id": "OV0sdB2Qe-GD"
      },
      "source": [
        "def clean_text(txt):\n",
        "    \n",
        "    # set new line as a word\n",
        "    txt = re.sub(r'<br />', \" enter \", txt)  \n",
        "    txt =re.sub(r'<br/>', \" enter \", txt)\n",
        "\n",
        "    # remove all other hatml tags\n",
        "    txt = re.sub(r'<.*?>', ' ', txt)\n",
        "    \n",
        "    # set all text as lower case\n",
        "    txt = txt.strip().lower()\n",
        "    \n",
        "    # separate specific characters like punctuation from words for using word base algorithms\n",
        "    special_chars = '!\"\\/#$%&()*+,-./:;<=>?@[]^_`{|}~'\n",
        "    special_chars_dict = dict((c, \" \" + c + \" \") for c in special_chars)\n",
        "    str_map = str.maketrans(special_chars_dict)\n",
        "    txt = txt.translate(str_map)\n",
        "    \n",
        "    # remove digits and spaces\n",
        "    all_words = [word for word in txt.split(sep = \" \") if not word.isdigit()]\n",
        "    all_words_not_spaces = filter(lambda item: item, all_words)\n",
        "    txt = ' '.join(all_words_not_spaces)\n",
        "    txt = txt.strip()\n",
        "    \n",
        "    return txt"
      ],
      "id": "OV0sdB2Qe-GD",
      "execution_count": null,
      "outputs": []
    },
    {
      "cell_type": "code",
      "metadata": {
        "id": "Fi-ldCj-e-GE"
      },
      "source": [
        "# print stats by words\n",
        "def word_freq_handler(vec, df, is_couner):\n",
        "    all_words = vec.transform(df)\n",
        "    words_sum = all_words.sum(axis=0) \n",
        "    words_freq = [(word, words_sum[0, idx]) for word, idx in  vec.vocabulary_.items()]\n",
        "    words_freq =sorted(words_freq, key = lambda x: x[1])\n",
        "    df_wf = pd.DataFrame(words_freq, columns=[\"word\", \"freq\"])\n",
        "    counter = df_wf.iloc[:,1]\n",
        "    used_single_time = counter[counter==1]\n",
        "    data = dict()\n",
        "    if is_couner == True:\n",
        "        data = dict(mean=counter.mean(), sum=counter.sum(), median=counter.median(), \n",
        "                    count=counter.count(), std=counter.std(), used_single_time=len(used_single_time))\n",
        "    else:\n",
        "        data = dict(mean=counter.mean(), sum=counter.sum(), median=counter.median(), \n",
        "                    count=counter.count(), std=counter.std())\n",
        "    data[\"words_freq\"] = df_wf\n",
        "    return data"
      ],
      "id": "Fi-ldCj-e-GE",
      "execution_count": null,
      "outputs": []
    },
    {
      "cell_type": "code",
      "metadata": {
        "id": "xQEuTMPCe-GF"
      },
      "source": [
        "def print_word_freq(df, obj):\n",
        "        df = df[\"review\"]\n",
        "        vec_counter = CountVectorizer(stop_words=\"english\", preprocessor=clean_text).fit(df)\n",
        "        vec_tfidf = TfidfVectorizer(stop_words=\"english\", preprocessor=clean_text).fit(df)\n",
        "        obj[\"counter\"] = word_freq_handler(vec_counter, df, True)\n",
        "        obj[\"tfidf\"] = word_freq_handler(vec_tfidf, df, False)"
      ],
      "id": "xQEuTMPCe-GF",
      "execution_count": null,
      "outputs": []
    },
    {
      "cell_type": "code",
      "metadata": {
        "id": "zfm64zA-e-GF"
      },
      "source": [
        "positive_stats = dict()\n",
        "print_word_freq(positive, positive_stats)\n",
        "\n",
        "negative_stats = dict()\n",
        "print_word_freq(negative, negative_stats)\n",
        "\n",
        "all_stats = dict()\n",
        "print_word_freq(all_data, all_stats)"
      ],
      "id": "zfm64zA-e-GF",
      "execution_count": null,
      "outputs": []
    },
    {
      "cell_type": "markdown",
      "metadata": {
        "id": "soawTw7VwFXP"
      },
      "source": [
        "<b>words stats - taking all words of every review in every category and count them.\n",
        "then print their stats on a graph.<br/><br/>\n",
        "\n",
        "blue - positive - all the words in the positive reviews <br/>\n",
        "red - negative - all the words in the negative reviews <br/>\n",
        "orange - all - all words in all the reviews\n",
        "<br/><br/>\n",
        "for example: <br/>\n",
        "\n",
        "median - positive - for all the words in the positive review, count for every word how many times it displayed in the *psotivie* reviews - return the median of this list</b>"
      ],
      "id": "soawTw7VwFXP"
    },
    {
      "cell_type": "code",
      "metadata": {
        "colab": {
          "base_uri": "https://localhost:8080/"
        },
        "id": "6varCKSie-GG",
        "outputId": "bb1442d5-9270-40e0-aec2-f9a24624286b"
      },
      "source": [
        "print_graph(positive_stats[\"counter\"], negative_stats[\"counter\"], all_stats[\"counter\"], [\"mean\", \"median\"])"
      ],
      "id": "6varCKSie-GG",
      "execution_count": null,
      "outputs": [
        {
          "output_type": "display_data",
          "data": {
            "image/png": "[encoded data removed]",
            "text/plain": [
              "<Figure size 1440x360 with 1 Axes>"
            ]
          },
          "metadata": {
            "needs_background": "light"
          }
        }
      ]
    },
    {
      "cell_type": "markdown",
      "metadata": {
        "id": "_hE6Y8OwxgG7"
      },
      "source": [
        "<b><br/>\n",
        "1. the mean is much much larger than the median, it might suggest the are many words that displaing once or almost one time only\n",
        "<b>\n",
        "2. it is interesting to note that mean of all reviews ( orange column ) is the highest column and the median of all reviews is the smallest column</b>"
      ],
      "id": "_hE6Y8OwxgG7"
    },
    {
      "cell_type": "markdown",
      "metadata": {
        "id": "LQXMJfUI5505"
      },
      "source": [
        "<b>the next graph will show the words counting std"
      ],
      "id": "LQXMJfUI5505"
    },
    {
      "cell_type": "code",
      "metadata": {
        "colab": {
          "base_uri": "https://localhost:8080/",
          "height": 320
        },
        "id": "io7eBRfQe-GG",
        "outputId": "376f5049-a77b-483f-9833-5534676276b8"
      },
      "source": [
        "print_graph(positive_stats[\"counter\"], negative_stats[\"counter\"], all_stats[\"counter\"], [\"std\"])"
      ],
      "id": "io7eBRfQe-GG",
      "execution_count": null,
      "outputs": [
        {
          "output_type": "display_data",
          "data": {
            "image/png": "[encoded data removed]",
            "text/plain": [
              "<Figure size 1440x360 with 1 Axes>"
            ]
          },
          "metadata": {
            "needs_background": "light"
          }
        }
      ]
    },
    {
      "cell_type": "markdown",
      "metadata": {
        "id": "pnYZ_BTbyn1X"
      },
      "source": [
        "<b>the problem with those graphs is that they are relying on counting only. <br/>\n",
        "the next charts will use TF-IDF wich decreases decrease the importance of words that appear more frequently in general. "
      ],
      "id": "pnYZ_BTbyn1X"
    },
    {
      "cell_type": "code",
      "metadata": {
        "colab": {
          "base_uri": "https://localhost:8080/"
        },
        "id": "RbL9Viqje-GH",
        "outputId": "ca3b3dbf-4d96-4837-b3f4-d4ab9d05528d"
      },
      "source": [
        "print_graph(positive_stats[\"tfidf\"], negative_stats[\"tfidf\"], all_stats[\"tfidf\"], [\"mean\", \"median\"])"
      ],
      "id": "RbL9Viqje-GH",
      "execution_count": null,
      "outputs": [
        {
          "output_type": "display_data",
          "data": {
            "image/png": "[encoded data removed]",
            "text/plain": [
              "<Figure size 1440x360 with 1 Axes>"
            ]
          },
          "metadata": {
            "needs_background": "light"
          }
        }
      ]
    },
    {
      "cell_type": "markdown",
      "metadata": {
        "id": "vTd_nkKD7ePD"
      },
      "source": [
        "<b>the next graph will show the words counting std"
      ],
      "id": "vTd_nkKD7ePD"
    },
    {
      "cell_type": "code",
      "metadata": {
        "colab": {
          "base_uri": "https://localhost:8080/",
          "height": 320
        },
        "id": "-yQnmUvje-GI",
        "outputId": "386f8873-31f4-45a7-b343-89699564162a"
      },
      "source": [
        "print_graph(positive_stats[\"tfidf\"], negative_stats[\"tfidf\"], all_stats[\"tfidf\"], [\"std\"])"
      ],
      "id": "-yQnmUvje-GI",
      "execution_count": null,
      "outputs": [
        {
          "output_type": "display_data",
          "data": {
            "image/png": "[encoded data removed]",
            "text/plain": [
              "<Figure size 1440x360 with 1 Axes>"
            ]
          },
          "metadata": {
            "needs_background": "light"
          }
        }
      ]
    },
    {
      "cell_type": "markdown",
      "metadata": {
        "id": "JB2K7HxB_fV8"
      },
      "source": [
        "<b>in the graph of the word counter stats - the median was very low<br/>\n",
        "it was already noted above that the reason is the hogh number of words that appers only once <br/>\n",
        "the next chart will show words that appears only once.\n",
        "<br/><br/>\n",
        "it is important to understand that word can be used one time only in the postive revies and one time only in the negative reviews, but over all it is used two times so it will not be counted in the all column"
      ],
      "id": "JB2K7HxB_fV8"
    },
    {
      "cell_type": "code",
      "metadata": {
        "colab": {
          "base_uri": "https://localhost:8080/",
          "height": 321
        },
        "id": "AzOjpfS4e-GJ",
        "outputId": "3630659b-efa9-4fd3-ee92-b3c6a8929c15"
      },
      "source": [
        "print_graph(positive_stats[\"counter\"], negative_stats[\"counter\"], all_stats[\"counter\"], [\"used_single_time\"])"
      ],
      "id": "AzOjpfS4e-GJ",
      "execution_count": null,
      "outputs": [
        {
          "output_type": "display_data",
          "data": {
            "image/png": "[encoded data removed]",
            "text/plain": [
              "<Figure size 1440x360 with 1 Axes>"
            ]
          },
          "metadata": {
            "needs_background": "light"
          }
        }
      ]
    },
    {
      "cell_type": "markdown",
      "metadata": {
        "id": "VifNCsb3e-GK"
      },
      "source": [
        "<b><h3>conclusion for the second step</h3>\n",
        "\n",
        "- the median of the counter and the TF-IDF are very low. it might suggest that removing a lot of the words from the text at the preproccessing part for avoiding overfitting is a good idea\n",
        "\n",
        "- this conclusion is strengthened by the number of words that are used only once \n",
        "\n",
        "- one could think that there is a small group of reviews that are very different from the other and they change all of the stats. <br/>\n",
        "the ratio between the column of all the stats in the counter section and in the tfidf section are very similar. <br/>\n",
        "It suggest  the stars are stable. <br/>"
      ],
      "id": "VifNCsb3e-GK"
    },
    {
      "cell_type": "markdown",
      "metadata": {
        "id": "Zwib2J_Ue-GK"
      },
      "source": [
        "<b><h3>Third Step:</h3>\n",
        "\n",
        "exploring the most popular words for every category"
      ],
      "id": "Zwib2J_Ue-GK"
    },
    {
      "cell_type": "code",
      "metadata": {
        "id": "2gJVYyYNe-GL"
      },
      "source": [
        "def set_df_top_words(df, words):\n",
        "    df = df.loc[df['word'].isin(words)]\n",
        "    diff = np.setdiff1d(words, df[\"word\"]).tolist()\n",
        "    diff_add = [{ \"word\" : i, \"freq\": 0 } for i in diff]\n",
        "    df = df.append(diff_add, ignore_index=True)   \n",
        "    df = df.sort_values(\"word\", ascending=False, ignore_index=True)\n",
        "    return df"
      ],
      "id": "2gJVYyYNe-GL",
      "execution_count": null,
      "outputs": []
    },
    {
      "cell_type": "code",
      "metadata": {
        "id": "EvLpVzqEe-GL"
      },
      "source": [
        "def print_graph(positive_vec, negative_vec, all_vec):    \n",
        "    words = list(set(list(positive_vec[-10:].loc[:,\"word\"]) + list(negative_vec[-10:].loc[:,\"word\"]) + list(all_vec[-10:].loc[:,\"word\"])))\n",
        "    positive_top_w = set_df_top_words(positive_vec, words)\n",
        "    negative_top_w = set_df_top_words(negative_vec, words)\n",
        "    all_top_w = set_df_top_words(all_vec, words)\n",
        "    \n",
        "    words.sort(reverse=True)\n",
        "\n",
        "    # create data\n",
        "    x = np.arange(len(words))\n",
        "    width = 0.4\n",
        "\n",
        "    plt.figure(figsize=(20,5))\n",
        "    # plot data in grouped manner of bar type\n",
        "    plt.bar(x-0.2, positive_top_w.loc[:,\"freq\"], width, color='blue')\n",
        "    plt.bar(x + 0.2, negative_top_w.loc[:,\"freq\"], width, color='maroon')\n",
        "    plt.xticks(x, words)\n",
        "    plt.xlabel(\"Words\")\n",
        "    plt.ylabel(\"Freq\")\n",
        "    plt.legend([\"Positive\", \"Negative\"])\n",
        "    plt.show()"
      ],
      "id": "EvLpVzqEe-GL",
      "execution_count": null,
      "outputs": []
    },
    {
      "cell_type": "markdown",
      "metadata": {
        "id": "MTjfwrJb_97L"
      },
      "source": [
        "<b>the next charts will show the stats of the most popular words in the reviews.<br/>\n",
        "the most popular words were chosen as follow:\n",
        "1. find the 10 most popular words in the positive reviws\n",
        "2. find the 10 most popular words in the negative reviws\n",
        "3. find the 10 most popular words in the over all reviws \n",
        "\n",
        "\n",
        "combine the three list into a common set"
      ],
      "id": "MTjfwrJb_97L"
    },
    {
      "cell_type": "markdown",
      "metadata": {
        "id": "Zsu3wPUvAG1v"
      },
      "source": [
        "<b>the next chart will show the counting of the most popular words"
      ],
      "id": "Zsu3wPUvAG1v"
    },
    {
      "cell_type": "code",
      "metadata": {
        "colab": {
          "base_uri": "https://localhost:8080/",
          "height": 326
        },
        "id": "oEx1ZGcse-GM",
        "outputId": "c197e298-cb51-49dc-ee53-29b8301ea37a"
      },
      "source": [
        "print_graph(positive_stats[\"counter\"][\"words_freq\"], \n",
        "            negative_stats[\"counter\"][\"words_freq\"], all_stats[\"counter\"][\"words_freq\"])"
      ],
      "id": "oEx1ZGcse-GM",
      "execution_count": null,
      "outputs": [
        {
          "output_type": "display_data",
          "data": {
            "image/png": "[encoded data removed]",
            "text/plain": [
              "<Figure size 1440x360 with 1 Axes>"
            ]
          },
          "metadata": {
            "needs_background": "light"
          }
        }
      ]
    },
    {
      "cell_type": "markdown",
      "metadata": {
        "id": "BdgEYInwAXLN"
      },
      "source": [
        "<b>the next chart will show the TF-IDF of the most popular words"
      ],
      "id": "BdgEYInwAXLN"
    },
    {
      "cell_type": "code",
      "metadata": {
        "colab": {
          "base_uri": "https://localhost:8080/",
          "height": 329
        },
        "id": "GfW2lvpPe-GN",
        "outputId": "987b26a7-a78a-4d22-c979-a482d67c89bc"
      },
      "source": [
        "print_graph(positive_stats[\"tfidf\"][\"words_freq\"], \n",
        "            negative_stats[\"tfidf\"][\"words_freq\"], all_stats[\"tfidf\"][\"words_freq\"])"
      ],
      "id": "GfW2lvpPe-GN",
      "execution_count": null,
      "outputs": [
        {
          "output_type": "display_data",
          "data": {
            "image/png": "[encoded data removed]",
            "text/plain": [
              "<Figure size 1440x360 with 1 Axes>"
            ]
          },
          "metadata": {
            "needs_background": "light"
          }
        }
      ]
    },
    {
      "cell_type": "markdown",
      "metadata": {
        "id": "hNfMZvU5e-GO"
      },
      "source": [
        "<b><h3>conclusion for the third step</h3>\n",
        "\n",
        "- the size of the common set of the most popular words in only slightly bigger than the size of each list wich shows that a lot of popular words are used in both negative and positive reviews\n",
        "\n",
        "- the same words came as the most popular in the counter and in the tf-idf\n",
        "\n",
        "- it is interesting how many times the word \"good\" has been used in the negtive reviews. the reason is popular combinations like \"not good\", \" it wasn't a good movie\"...\n"
      ],
      "id": "hNfMZvU5e-GO"
    }
  ]
}