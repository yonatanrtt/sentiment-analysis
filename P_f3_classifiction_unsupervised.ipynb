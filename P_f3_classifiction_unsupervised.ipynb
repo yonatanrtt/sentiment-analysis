{
  "nbformat": 4,
  "nbformat_minor": 5,
  "metadata": {
    "colab": {
      "name": "P_f3_classifiction_unsupervised.ipynb",
      "provenance": [],
      "collapsed_sections": [],
      "include_colab_link": true
    },
    "kernelspec": {
      "display_name": "Python 3",
      "language": "python",
      "name": "python3"
    },
    "language_info": {
      "codemirror_mode": {
        "name": "ipython",
        "version": 3
      },
      "file_extension": ".py",
      "mimetype": "text/x-python",
      "name": "python",
      "nbconvert_exporter": "python",
      "pygments_lexer": "ipython3",
      "version": "3.7.6"
    }
  },
  "cells": [
    {
      "cell_type": "markdown",
      "metadata": {
        "id": "view-in-github",
        "colab_type": "text"
      },
      "source": [
        "<a href=\"https://colab.research.google.com/github/yonatanrtt/sentiment-analysis/blob/main/P_f3_classifiction_unsupervised.ipynb\" target=\"_parent\"><img src=\"https://colab.research.google.com/assets/colab-badge.svg\" alt=\"Open In Colab\"/></a>"
      ]
    },
    {
      "cell_type": "markdown",
      "metadata": {
        "id": "KJdB25nx3uM-"
      },
      "source": [
        "<b><h2>Unsupervied Classification</h2>\n",
        "\n",
        "In this notebook, unsupervised algorithms will be tested"
      ],
      "id": "KJdB25nx3uM-"
    },
    {
      "cell_type": "code",
      "metadata": {
        "colab": {
          "base_uri": "https://localhost:8080/"
        },
        "id": "hh0FWpQ7VRcc",
        "outputId": "ba0a9690-1009-4020-9d83-995523287b55"
      },
      "source": [
        "!pip install -U sentence-transformers"
      ],
      "id": "hh0FWpQ7VRcc",
      "execution_count": null,
      "outputs": [
        {
          "output_type": "stream",
          "text": [
            "Requirement already satisfied: sentence-transformers in /usr/local/lib/python3.7/dist-packages (2.0.0)\n",
            "Requirement already satisfied: scikit-learn in /usr/local/lib/python3.7/dist-packages (from sentence-transformers) (0.22.2.post1)\n",
            "Requirement already satisfied: transformers<5.0.0,>=4.6.0 in /usr/local/lib/python3.7/dist-packages (from sentence-transformers) (4.9.1)\n",
            "Requirement already satisfied: nltk in /usr/local/lib/python3.7/dist-packages (from sentence-transformers) (3.2.5)\n",
            "Requirement already satisfied: torch>=1.6.0 in /usr/local/lib/python3.7/dist-packages (from sentence-transformers) (1.9.0+cu102)\n",
            "Requirement already satisfied: huggingface-hub in /usr/local/lib/python3.7/dist-packages (from sentence-transformers) (0.0.12)\n",
            "Requirement already satisfied: tqdm in /usr/local/lib/python3.7/dist-packages (from sentence-transformers) (4.41.1)\n",
            "Requirement already satisfied: torchvision in /usr/local/lib/python3.7/dist-packages (from sentence-transformers) (0.10.0+cu102)\n",
            "Requirement already satisfied: numpy in /usr/local/lib/python3.7/dist-packages (from sentence-transformers) (1.19.5)\n",
            "Requirement already satisfied: sentencepiece in /usr/local/lib/python3.7/dist-packages (from sentence-transformers) (0.1.96)\n",
            "Requirement already satisfied: scipy in /usr/local/lib/python3.7/dist-packages (from sentence-transformers) (1.4.1)\n",
            "Requirement already satisfied: typing-extensions in /usr/local/lib/python3.7/dist-packages (from torch>=1.6.0->sentence-transformers) (3.7.4.3)\n",
            "Requirement already satisfied: tokenizers<0.11,>=0.10.1 in /usr/local/lib/python3.7/dist-packages (from transformers<5.0.0,>=4.6.0->sentence-transformers) (0.10.3)\n",
            "Requirement already satisfied: importlib-metadata in /usr/local/lib/python3.7/dist-packages (from transformers<5.0.0,>=4.6.0->sentence-transformers) (4.6.1)\n",
            "Requirement already satisfied: pyyaml>=5.1 in /usr/local/lib/python3.7/dist-packages (from transformers<5.0.0,>=4.6.0->sentence-transformers) (5.4.1)\n",
            "Requirement already satisfied: sacremoses in /usr/local/lib/python3.7/dist-packages (from transformers<5.0.0,>=4.6.0->sentence-transformers) (0.0.45)\n",
            "Requirement already satisfied: regex!=2019.12.17 in /usr/local/lib/python3.7/dist-packages (from transformers<5.0.0,>=4.6.0->sentence-transformers) (2019.12.20)\n",
            "Requirement already satisfied: filelock in /usr/local/lib/python3.7/dist-packages (from transformers<5.0.0,>=4.6.0->sentence-transformers) (3.0.12)\n",
            "Requirement already satisfied: packaging in /usr/local/lib/python3.7/dist-packages (from transformers<5.0.0,>=4.6.0->sentence-transformers) (21.0)\n",
            "Requirement already satisfied: requests in /usr/local/lib/python3.7/dist-packages (from transformers<5.0.0,>=4.6.0->sentence-transformers) (2.23.0)\n",
            "Requirement already satisfied: pyparsing>=2.0.2 in /usr/local/lib/python3.7/dist-packages (from packaging->transformers<5.0.0,>=4.6.0->sentence-transformers) (2.4.7)\n",
            "Requirement already satisfied: zipp>=0.5 in /usr/local/lib/python3.7/dist-packages (from importlib-metadata->transformers<5.0.0,>=4.6.0->sentence-transformers) (3.5.0)\n",
            "Requirement already satisfied: six in /usr/local/lib/python3.7/dist-packages (from nltk->sentence-transformers) (1.15.0)\n",
            "Requirement already satisfied: chardet<4,>=3.0.2 in /usr/local/lib/python3.7/dist-packages (from requests->transformers<5.0.0,>=4.6.0->sentence-transformers) (3.0.4)\n",
            "Requirement already satisfied: urllib3!=1.25.0,!=1.25.1,<1.26,>=1.21.1 in /usr/local/lib/python3.7/dist-packages (from requests->transformers<5.0.0,>=4.6.0->sentence-transformers) (1.24.3)\n",
            "Requirement already satisfied: idna<3,>=2.5 in /usr/local/lib/python3.7/dist-packages (from requests->transformers<5.0.0,>=4.6.0->sentence-transformers) (2.10)\n",
            "Requirement already satisfied: certifi>=2017.4.17 in /usr/local/lib/python3.7/dist-packages (from requests->transformers<5.0.0,>=4.6.0->sentence-transformers) (2021.5.30)\n",
            "Requirement already satisfied: click in /usr/local/lib/python3.7/dist-packages (from sacremoses->transformers<5.0.0,>=4.6.0->sentence-transformers) (7.1.2)\n",
            "Requirement already satisfied: joblib in /usr/local/lib/python3.7/dist-packages (from sacremoses->transformers<5.0.0,>=4.6.0->sentence-transformers) (1.0.1)\n",
            "Requirement already satisfied: pillow>=5.3.0 in /usr/local/lib/python3.7/dist-packages (from torchvision->sentence-transformers) (7.1.2)\n"
          ],
          "name": "stdout"
        }
      ]
    },
    {
      "cell_type": "code",
      "metadata": {
        "colab": {
          "base_uri": "https://localhost:8080/"
        },
        "id": "M60O4b06VbbZ",
        "outputId": "2fbf65b7-4a3d-4952-d450-bbd86f7f8d89"
      },
      "source": [
        "from transformers import BertTokenizer, AdamW, get_linear_schedule_with_warmup, BertModel\n",
        "import pandas as pd\n",
        "import re\n",
        "import numpy as np\n",
        "import matplotlib.pyplot as plt\n",
        "from sklearn.feature_extraction.text import CountVectorizer\n",
        "from sklearn.model_selection import train_test_split\n",
        "from sklearn.metrics import accuracy_score, confusion_matrix\n",
        "from sklearn.svm import LinearSVC\n",
        "from sklearn.ensemble import RandomForestClassifier\n",
        "from sklearn.cluster import DBSCAN\n",
        "from sklearn.cluster import KMeans\n",
        "from sklearn.metrics import silhouette_score, silhouette_samples\n",
        "import time\n",
        "import matplotlib.cm as cm\n",
        "from sklearn import metrics\n",
        "from sentence_transformers import SentenceTransformer\n",
        "from yellowbrick.cluster import SilhouetteVisualizer"
      ],
      "id": "M60O4b06VbbZ",
      "execution_count": null,
      "outputs": [
        {
          "output_type": "stream",
          "text": [
            "/usr/local/lib/python3.7/dist-packages/sklearn/utils/deprecation.py:144: FutureWarning: The sklearn.metrics.classification module is  deprecated in version 0.22 and will be removed in version 0.24. The corresponding classes / functions should instead be imported from sklearn.metrics. Anything that cannot be imported from sklearn.metrics is now part of the private API.\n",
            "  warnings.warn(message, FutureWarning)\n"
          ],
          "name": "stderr"
        }
      ]
    },
    {
      "cell_type": "code",
      "metadata": {
        "colab": {
          "base_uri": "https://localhost:8080/"
        },
        "id": "STX1xUQ_30J6",
        "outputId": "84f385d6-f2b8-41f9-e88e-8ea7ca3e0ca3"
      },
      "source": [
        "from google.colab import  drive\n",
        "drive.mount(\"/drive\")\n",
        "data = pd.read_csv(\"/drive/My Drive/data.csv\")"
      ],
      "id": "STX1xUQ_30J6",
      "execution_count": null,
      "outputs": [
        {
          "output_type": "stream",
          "text": [
            "Drive already mounted at /drive; to attempt to forcibly remount, call drive.mount(\"/drive\", force_remount=True).\n"
          ],
          "name": "stdout"
        }
      ]
    },
    {
      "cell_type": "markdown",
      "metadata": {
        "id": "Jci2TZ2uor_P"
      },
      "source": [
        "<b><h3>First Step:</h3>\n",
        "\n",
        "the first step of this note is trying to use dbscan algorithm using some epsilon and two text representation options\n"
      ],
      "id": "Jci2TZ2uor_P"
    },
    {
      "cell_type": "code",
      "metadata": {
        "id": "rfPfV9nP3uNF"
      },
      "source": [
        "def clean_text(txt):\n",
        "    \n",
        "    # set new line as a word\n",
        "    txt = re.sub(r'<br />', \" enter \", txt)  \n",
        "    txt =re.sub(r'<br/>', \" enter \", txt)\n",
        "\n",
        "    # remove all other hatml tags\n",
        "    txt = re.sub(r'<.*?>', ' ', txt)\n",
        "    \n",
        "    # set all text as lower case\n",
        "    txt = txt.strip().lower()\n",
        "    \n",
        "    # separate specific characters like punctuation from words for using word base algorithms\n",
        "    special_chars = '!\"\\/#$%&()*+,-./:;<=>?@[]^_`{|}~'\n",
        "    special_chars = special_chars + \"'\"\n",
        "    special_chars_dict = dict((c, \" \") for c in special_chars)\n",
        "    str_map = str.maketrans(special_chars_dict)\n",
        "    txt = txt.translate(str_map)\n",
        "    \n",
        "    # remove digits and spaces\n",
        "    all_words = [word for word in txt.split(sep = \" \") if not word.isdigit()]\n",
        "    all_words_not_spaces = filter(lambda item: item, all_words)\n",
        "    txt = ' '.join(all_words_not_spaces)\n",
        "    txt = txt.strip()\n",
        "    \n",
        "    return txt"
      ],
      "id": "rfPfV9nP3uNF",
      "execution_count": null,
      "outputs": []
    },
    {
      "cell_type": "code",
      "metadata": {
        "id": "A3kIdSs63uNG"
      },
      "source": [
        "data[\"review\"] = data[\"review\"]\n",
        "data[\"sentiment\"] = data[\"sentiment\"].replace(\"positive\", 1).replace(\"negative\", 0)\n",
        "\n",
        "df_train, df_test = train_test_split(data, test_size=0.5, random_state=42)\n",
        "\n",
        "X = df_train[\"review\"]\n",
        "y = df_train[\"sentiment\"]"
      ],
      "id": "A3kIdSs63uNG",
      "execution_count": null,
      "outputs": []
    },
    {
      "cell_type": "code",
      "metadata": {
        "id": "o5ihakZG3uNH"
      },
      "source": [
        "vectorizer = CountVectorizer(\n",
        "    stop_words=\"english\",\n",
        "    preprocessor=clean_text,\n",
        "    max_df=0.9,\n",
        "    min_df=5\n",
        ")"
      ],
      "id": "o5ihakZG3uNH",
      "execution_count": null,
      "outputs": []
    },
    {
      "cell_type": "code",
      "metadata": {
        "id": "kIn95_2s3uNH"
      },
      "source": [
        "training_features = vectorizer.fit_transform(X)"
      ],
      "id": "kIn95_2s3uNH",
      "execution_count": null,
      "outputs": []
    },
    {
      "cell_type": "markdown",
      "metadata": {
        "id": "V4KFR3Wi9plf"
      },
      "source": [
        "<b>max length of the SBERT model is 300 out of computation resource limits"
      ],
      "id": "V4KFR3Wi9plf"
    },
    {
      "cell_type": "code",
      "metadata": {
        "id": "KXkR8RYvVrq1"
      },
      "source": [
        "sbert_model = SentenceTransformer('paraphrase-MiniLM-L6-v2')\n",
        "sbert_model.max_seq_length = 300"
      ],
      "id": "KXkR8RYvVrq1",
      "execution_count": null,
      "outputs": []
    },
    {
      "cell_type": "code",
      "metadata": {
        "id": "TglDlbz1Rr4p"
      },
      "source": [
        "embedded = sbert_model.encode(list(X))"
      ],
      "id": "TglDlbz1Rr4p",
      "execution_count": null,
      "outputs": []
    },
    {
      "cell_type": "code",
      "metadata": {
        "id": "Hmk8h8z6c5O2"
      },
      "source": [
        "def dbscan_evaluate(model, evaluation, input, epsilon_size):\n",
        "  labels = dbscan.labels_\n",
        "\n",
        "  num_clusters = len(np.unique(labels) )\n",
        "  num_noise = np.sum(np.array(labels) == -1, axis=0)\n",
        "\n",
        "  silhouette_avg = silhouette_score(input, labels)\n",
        "  evaluation.append(silhouette_avg)\n",
        "  print('epsilon size: %.3f. noise points: %d.clusters: %d. silhouette avarage: %0.3f.' % (epsilon_size, num_noise, num_clusters, silhouette_avg))\n",
        "\n",
        "  labels_lst = list(labels)\n",
        "\n",
        "  if num_clusters < 6:\n",
        "    for label in np.unique(labels):\n",
        "      print('label: %d. num of items: %d.' % (label, labels_lst.count(label)))\n",
        "  print(\"\\n\")"
      ],
      "id": "Hmk8h8z6c5O2",
      "execution_count": null,
      "outputs": []
    },
    {
      "cell_type": "code",
      "metadata": {
        "id": "4yjU-NTkJEKo"
      },
      "source": [
        "dbscan_evaluation = []\n",
        "dbscan_based_bert_evaluation = []\n",
        "\n",
        "\n",
        "epsilon_sizes = [0.07, 0.2, 0.7, 2, 5, 10, 20, 30, 40, 45, 50, 55]"
      ],
      "id": "4yjU-NTkJEKo",
      "execution_count": null,
      "outputs": []
    },
    {
      "cell_type": "markdown",
      "metadata": {
        "id": "6QZejjvzpRgc"
      },
      "source": [
        "<b>the next cell will display the result of dbscan with 13 different epsilon sizes. <br/><br/>the reviews will be represented by B.O.W. ( bag of words )"
      ],
      "id": "6QZejjvzpRgc"
    },
    {
      "cell_type": "code",
      "metadata": {
        "id": "DrH0Hod-3uNI",
        "colab": {
          "base_uri": "https://localhost:8080/"
        },
        "outputId": "8ef17439-e721-419f-84c6-3c46a0c1b90d"
      },
      "source": [
        "for idx, epsilon_size in enumerate(epsilon_sizes):\n",
        "    time.sleep(2)\n",
        "    dbscan = DBSCAN(eps=epsilon_size, min_samples=2).fit(training_features)\n",
        "    clumn, row = divmod(idx,2)\n",
        "    dbscan_evaluate(dbscan, dbscan_evaluation, training_features, epsilon_size) "
      ],
      "id": "DrH0Hod-3uNI",
      "execution_count": null,
      "outputs": [
        {
          "output_type": "stream",
          "text": [
            "epsilon size: 0.070. noise points: 24800.clusters: 100. silhouette avarage: -0.310.\n",
            "\n",
            "\n",
            "epsilon size: 0.200. noise points: 24800.clusters: 100. silhouette avarage: -0.310.\n",
            "\n",
            "\n",
            "epsilon size: 0.700. noise points: 24800.clusters: 100. silhouette avarage: -0.310.\n",
            "\n",
            "\n",
            "epsilon size: 2.000. noise points: 24798.clusters: 101. silhouette avarage: -0.310.\n",
            "\n",
            "\n",
            "epsilon size: 5.000. noise points: 24236.clusters: 101. silhouette avarage: -0.285.\n",
            "\n",
            "\n",
            "epsilon size: 10.000. noise points: 12755.clusters: 47. silhouette avarage: -0.082.\n",
            "\n",
            "\n",
            "epsilon size: 20.000. noise points: 1770.clusters: 10. silhouette avarage: 0.298.\n",
            "\n",
            "\n",
            "epsilon size: 30.000. noise points: 209.clusters: 3. silhouette avarage: 0.567.\n",
            "label: -1. num of items: 209.\n",
            "label: 0. num of items: 24789.\n",
            "label: 1. num of items: 2.\n",
            "\n",
            "\n",
            "epsilon size: 40.000. noise points: 15.clusters: 2. silhouette avarage: 0.716.\n",
            "label: -1. num of items: 15.\n",
            "label: 0. num of items: 24985.\n",
            "\n",
            "\n",
            "epsilon size: 45.000. noise points: 9.clusters: 2. silhouette avarage: 0.713.\n",
            "label: -1. num of items: 9.\n",
            "label: 0. num of items: 24991.\n",
            "\n",
            "\n",
            "epsilon size: 50.000. noise points: 4.clusters: 2. silhouette avarage: 0.745.\n",
            "label: -1. num of items: 4.\n",
            "label: 0. num of items: 24996.\n",
            "\n",
            "\n",
            "epsilon size: 55.000. noise points: 2.clusters: 2. silhouette avarage: 0.783.\n",
            "label: -1. num of items: 2.\n",
            "label: 0. num of items: 24998.\n",
            "\n",
            "\n"
          ],
          "name": "stdout"
        }
      ]
    },
    {
      "cell_type": "markdown",
      "metadata": {
        "id": "GTuyFiuttK_p"
      },
      "source": [
        "<b>DbScan - B.O.W. - it can been seen that although the silhouette score is better as the epsilon size increase,<br/> the distribution of the reviews between the clusters does not make any sence "
      ],
      "id": "GTuyFiuttK_p"
    },
    {
      "cell_type": "markdown",
      "metadata": {
        "id": "WfkF7-neqO_M"
      },
      "source": [
        "<b>the next cell will display the result of dbscan with the same 13 different epsilon sizes of the previous section. <br/><br/>the reviews will be represented by SBERT ( sentence BERT )"
      ],
      "id": "WfkF7-neqO_M"
    },
    {
      "cell_type": "code",
      "metadata": {
        "id": "ZloyY-tOLLnv",
        "colab": {
          "base_uri": "https://localhost:8080/"
        },
        "outputId": "c5f3a429-f648-49d7-fbe3-6a10935fceed"
      },
      "source": [
        "for idx, epsilon_size in enumerate(epsilon_sizes):\n",
        "    time.sleep(2)\n",
        "    dbscan_based_bert = DBSCAN(eps=epsilon_size, min_samples=2).fit(embedded)\n",
        "    clumn, row = divmod(idx,2)\n",
        "    dbscan_evaluate(dbscan_based_bert, dbscan_based_bert_evaluation, embedded, epsilon_size) "
      ],
      "id": "ZloyY-tOLLnv",
      "execution_count": null,
      "outputs": [
        {
          "output_type": "stream",
          "text": [
            "epsilon size: 0.070. noise points: 2.clusters: 2. silhouette avarage: 0.213.\n",
            "label: -1. num of items: 2.\n",
            "label: 0. num of items: 24998.\n",
            "\n",
            "\n",
            "epsilon size: 0.200. noise points: 2.clusters: 2. silhouette avarage: 0.213.\n",
            "label: -1. num of items: 2.\n",
            "label: 0. num of items: 24998.\n",
            "\n",
            "\n",
            "epsilon size: 0.700. noise points: 2.clusters: 2. silhouette avarage: 0.213.\n",
            "label: -1. num of items: 2.\n",
            "label: 0. num of items: 24998.\n",
            "\n",
            "\n",
            "epsilon size: 2.000. noise points: 2.clusters: 2. silhouette avarage: 0.213.\n",
            "label: -1. num of items: 2.\n",
            "label: 0. num of items: 24998.\n",
            "\n",
            "\n",
            "epsilon size: 5.000. noise points: 2.clusters: 2. silhouette avarage: 0.213.\n",
            "label: -1. num of items: 2.\n",
            "label: 0. num of items: 24998.\n",
            "\n",
            "\n",
            "epsilon size: 10.000. noise points: 2.clusters: 2. silhouette avarage: 0.213.\n",
            "label: -1. num of items: 2.\n",
            "label: 0. num of items: 24998.\n",
            "\n",
            "\n",
            "epsilon size: 20.000. noise points: 2.clusters: 2. silhouette avarage: 0.213.\n",
            "label: -1. num of items: 2.\n",
            "label: 0. num of items: 24998.\n",
            "\n",
            "\n",
            "epsilon size: 30.000. noise points: 2.clusters: 2. silhouette avarage: 0.213.\n",
            "label: -1. num of items: 2.\n",
            "label: 0. num of items: 24998.\n",
            "\n",
            "\n",
            "epsilon size: 40.000. noise points: 2.clusters: 2. silhouette avarage: 0.213.\n",
            "label: -1. num of items: 2.\n",
            "label: 0. num of items: 24998.\n",
            "\n",
            "\n",
            "epsilon size: 45.000. noise points: 2.clusters: 2. silhouette avarage: 0.213.\n",
            "label: -1. num of items: 2.\n",
            "label: 0. num of items: 24998.\n",
            "\n",
            "\n",
            "epsilon size: 50.000. noise points: 2.clusters: 2. silhouette avarage: 0.213.\n",
            "label: -1. num of items: 2.\n",
            "label: 0. num of items: 24998.\n",
            "\n",
            "\n",
            "epsilon size: 55.000. noise points: 2.clusters: 2. silhouette avarage: 0.213.\n",
            "label: -1. num of items: 2.\n",
            "label: 0. num of items: 24998.\n",
            "\n",
            "\n"
          ],
          "name": "stdout"
        }
      ]
    },
    {
      "cell_type": "markdown",
      "metadata": {
        "id": "HHENJ8ktuC_x"
      },
      "source": [
        "<b>DbScan - SBERT - it can been seen that although the silhouette score does not change at all.\n",
        "the distribution of the reviews between the clusters does not make any sence. "
      ],
      "id": "HHENJ8ktuC_x"
    },
    {
      "cell_type": "markdown",
      "metadata": {
        "id": "MxbmShhBuzNE"
      },
      "source": [
        "<b>next cell will display the silhouette score of every epsilon size for every text representation"
      ],
      "id": "MxbmShhBuzNE"
    },
    {
      "cell_type": "code",
      "metadata": {
        "id": "wFGfh30NlgOg",
        "colab": {
          "base_uri": "https://localhost:8080/",
          "height": 354
        },
        "outputId": "14a81928-6201-4c65-c18c-c1b55c203ab6"
      },
      "source": [
        "plt.figure(figsize=(20,5))\n",
        "x = np.arange(len(epsilon_sizes))\n",
        "plt.bar(x-0.1, dbscan_evaluation, 0.2, color='red')\n",
        "plt.bar(x+0.1, dbscan_based_bert_evaluation, 0.2, color='yellow')\n",
        "plt.xticks(x, epsilon_sizes)\n",
        "plt.xlabel(\"epsilon\")\n",
        "plt.ylabel(\"silhouette avarage\")\n",
        "plt.legend([\"B.O.W.\", \"SBERT\"])\n",
        "plt.show()"
      ],
      "id": "wFGfh30NlgOg",
      "execution_count": null,
      "outputs": [
        {
          "output_type": "display_data",
          "data": {
            "image/png": "[encoded data removed]",
            "text/plain": [
              "<Figure size 1440x360 with 1 Axes>"
            ]
          },
          "metadata": {
            "tags": []
          }
        }
      ]
    },
    {
      "cell_type": "markdown",
      "metadata": {
        "id": "Wv4vcmWLvfqZ"
      },
      "source": [
        "<b><h3>conclusion for the first step</h3>\n",
        "\n",
        "- DbScan did not return good enough results"
      ],
      "id": "Wv4vcmWLvfqZ"
    },
    {
      "cell_type": "markdown",
      "metadata": {
        "id": "rijEd2CQynMY"
      },
      "source": [
        "<b><h3>Second Step:</h3>\n",
        "\n",
        "the second step of this note is trying to use k-mean algorithm using some numbers of clusters and two text representation options\n"
      ],
      "id": "rijEd2CQynMY"
    },
    {
      "cell_type": "code",
      "metadata": {
        "id": "QAXi1fVWzr40"
      },
      "source": [
        " def KMean_evaluate(model, evaluation, input, n_clusters, graph): \n",
        "    graph.set_title('%d classes' % n_clusters)\n",
        "    cluster_labels = model.fit_predict(input)\n",
        "    silhouette_avg = silhouette_score(input, cluster_labels)\n",
        "    evaluation.append(silhouette_avg)\n",
        "    print(\"n_clusters: \", n_clusters, \"average silhouette score is :\", silhouette_avg)\n",
        "\n",
        "    visualizer = SilhouetteVisualizer(model, colors='yellowbrick', ax=graph)\n",
        "    visualizer.fit(input)"
      ],
      "id": "QAXi1fVWzr40",
      "execution_count": null,
      "outputs": []
    },
    {
      "cell_type": "code",
      "metadata": {
        "id": "_jR5IeCU_UDX"
      },
      "source": [
        "KMean_evaluation = []\n",
        "KMean_bsed_bert_evaluation = []\n",
        "\n",
        "num_of_clusters = [*range(2, 6, 1)]\n",
        "num_of_clusters_size = len(num_of_clusters)"
      ],
      "id": "_jR5IeCU_UDX",
      "execution_count": null,
      "outputs": []
    },
    {
      "cell_type": "markdown",
      "metadata": {
        "id": "uLTxJiYlE3_i"
      },
      "source": [
        "<b>the next cell will display the result of k-mean with some different number of clusters. <br/><br/>the reviews will be represented by B.O.W. ( bag of words )"
      ],
      "id": "uLTxJiYlE3_i"
    },
    {
      "cell_type": "code",
      "metadata": {
        "id": "jbWUfnJd3uNK",
        "colab": {
          "base_uri": "https://localhost:8080/",
          "height": 585
        },
        "outputId": "6e7ce791-12db-46b5-9d14-8b59e8672fb3"
      },
      "source": [
        "fig, ax = plt.subplots(1, len(num_of_clusters), figsize=(15,8))\n",
        "\n",
        "print(\"based B.O.G\")\n",
        "for idx, n_clusters in enumerate(num_of_clusters):\n",
        "    time.sleep(2)\n",
        "    model = KMeans(n_clusters=n_clusters, random_state=10)\n",
        "    KMean_evaluate(model, KMean_evaluation, training_features, n_clusters, ax[idx])"
      ],
      "id": "jbWUfnJd3uNK",
      "execution_count": null,
      "outputs": [
        {
          "output_type": "stream",
          "text": [
            "based B.O.G\n",
            "n_clusters:  2 average silhouette score is : 0.24136440381341204\n",
            "n_clusters:  3 average silhouette score is : 0.1375392455836522\n",
            "n_clusters:  4 average silhouette score is : 0.056846749490135906\n",
            "n_clusters:  5 average silhouette score is : 0.05109236679816124\n"
          ],
          "name": "stdout"
        },
        {
          "output_type": "display_data",
          "data": {
            "image/png": "[encoded data removed]",
            "text/plain": [
              "<Figure size 1080x576 with 4 Axes>"
            ]
          },
          "metadata": {
            "tags": []
          }
        }
      ]
    },
    {
      "cell_type": "markdown",
      "metadata": {
        "id": "f8C3sNTG4Pld"
      },
      "source": [
        "<b>K-mean - B.O.W.:\n",
        "\n",
        "- best silhouette average is in the on the 2 clusters, but the distribution of the reviews between the clusters does not make any sense - the real labels create two 2 clusters that each one is a half\n",
        "\n",
        "- the distribution of the reviews between the clusters on the 4 and 5 clusters is better, but the silhouette average is very very small"
      ],
      "id": "f8C3sNTG4Pld"
    },
    {
      "cell_type": "markdown",
      "metadata": {
        "id": "dKLtyZVq2RBD"
      },
      "source": [
        "<b>the next cell will display the result of k-mean with some different number of clusters. <br/><br/>the reviews will be represented by SBERT ( sentence BERT )"
      ],
      "id": "dKLtyZVq2RBD"
    },
    {
      "cell_type": "code",
      "metadata": {
        "id": "iVoHno4B_EJQ",
        "colab": {
          "base_uri": "https://localhost:8080/",
          "height": 585
        },
        "outputId": "930bb270-1caf-49f3-a32f-6c0f875799d9"
      },
      "source": [
        "fig, ax = plt.subplots(1, len(num_of_clusters), figsize=(15,8))\n",
        "\n",
        "print(\"based BERT\")\n",
        "for idx, n_clusters in enumerate(num_of_clusters):\n",
        "    time.sleep(2)\n",
        "    model = KMeans(n_clusters=n_clusters, random_state=10)\n",
        "    KMean_evaluate(model, KMean_bsed_bert_evaluation, embedded, n_clusters, ax[idx])"
      ],
      "id": "iVoHno4B_EJQ",
      "execution_count": null,
      "outputs": [
        {
          "output_type": "stream",
          "text": [
            "based BERT\n",
            "n_clusters:  2 average silhouette score is : 0.056748524\n",
            "n_clusters:  3 average silhouette score is : 0.0061752484\n",
            "n_clusters:  4 average silhouette score is : 0.0045127636\n",
            "n_clusters:  5 average silhouette score is : 0.0029447053\n"
          ],
          "name": "stdout"
        },
        {
          "output_type": "display_data",
          "data": {
            "image/png": "[encoded data removed]",
            "text/plain": [
              "<Figure size 1080x576 with 4 Axes>"
            ]
          },
          "metadata": {
            "tags": []
          }
        }
      ]
    },
    {
      "cell_type": "markdown",
      "metadata": {
        "id": "v__UtLZk6zlT"
      },
      "source": [
        "<b>K-mean - SBERT:\n",
        "\n",
        "- all the silhouette average are very very small"
      ],
      "id": "v__UtLZk6zlT"
    },
    {
      "cell_type": "markdown",
      "metadata": {
        "id": "QhvsTfCc7BNd"
      },
      "source": [
        "<b>next cell will display the silhouette score of every cluster number for every text representation"
      ],
      "id": "QhvsTfCc7BNd"
    },
    {
      "cell_type": "code",
      "metadata": {
        "id": "pZ6XiJMM1fXv",
        "colab": {
          "base_uri": "https://localhost:8080/",
          "height": 331
        },
        "outputId": "3971f39b-7ade-42af-89ad-81c0133f7c64"
      },
      "source": [
        "plt.figure(figsize=(20,5))\n",
        "x = np.arange(len(num_of_clusters))\n",
        "plt.bar(x-0.1, KMean_evaluation, 0.2, color='red')\n",
        "plt.bar(x+0.1, KMean_bsed_bert_evaluation, 0.2, color='yellow')\n",
        "plt.xticks(x, num_of_clusters)\n",
        "plt.xlabel(\"epsilon\")\n",
        "plt.ylabel(\"silhouette avarage\")\n",
        "plt.legend([\"B.O.W\", \"BERT\"])\n",
        "plt.show()"
      ],
      "id": "pZ6XiJMM1fXv",
      "execution_count": null,
      "outputs": [
        {
          "output_type": "display_data",
          "data": {
            "image/png": "[encoded data removed]",
            "text/plain": [
              "<Figure size 1440x360 with 1 Axes>"
            ]
          },
          "metadata": {
            "tags": []
          }
        }
      ]
    },
    {
      "cell_type": "markdown",
      "metadata": {
        "id": "a2ltXVtHzrrR"
      },
      "source": [
        "<b><h3>conclusion for the second step</h3>\n",
        "\n",
        "- the silhouette avarge of the B.O.W. gives better results than the SBERT\n",
        "\n",
        "- the same problem with the previous section of the DbScan imbalance distribution of items into clusters"
      ],
      "id": "a2ltXVtHzrrR"
    }
  ]
}