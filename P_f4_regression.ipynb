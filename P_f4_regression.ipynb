{
  "nbformat": 4,
  "nbformat_minor": 5,
  "metadata": {
    "kernelspec": {
      "display_name": "Python 3",
      "language": "python",
      "name": "python3"
    },
    "language_info": {
      "codemirror_mode": {
        "name": "ipython",
        "version": 3
      },
      "file_extension": ".py",
      "mimetype": "text/x-python",
      "name": "python",
      "nbconvert_exporter": "python",
      "pygments_lexer": "ipython3",
      "version": "3.7.6"
    },
    "colab": {
      "name": "P_f4_regression.ipynb",
      "provenance": [],
      "collapsed_sections": [],
      "include_colab_link": true
    }
  },
  "cells": [
    {
      "cell_type": "markdown",
      "metadata": {
        "id": "view-in-github",
        "colab_type": "text"
      },
      "source": [
        "<a href=\"https://colab.research.google.com/github/yonatanrtt/sentiment-analysis/blob/main/P_f4_regression.ipynb\" target=\"_parent\"><img src=\"https://colab.research.google.com/assets/colab-badge.svg\" alt=\"Open In Colab\"/></a>"
      ]
    },
    {
      "cell_type": "markdown",
      "metadata": {
        "id": "bkogkwo1fOKL"
      },
      "source": [
        "<b><h2>Regression</h2>\n",
        "\n",
        "In this notebook, regression will be used and the edges of the regression results will be inspected"
      ],
      "id": "bkogkwo1fOKL"
    },
    {
      "cell_type": "markdown",
      "metadata": {
        "id": "mOyeWfDGK3gx"
      },
      "source": [
        "<b>in all the tests in this notebook Random Forest will be used"
      ],
      "id": "mOyeWfDGK3gx"
    },
    {
      "cell_type": "code",
      "metadata": {
        "id": "ZBwcTfBIfOKN"
      },
      "source": [
        "import pandas as pd\n",
        "import re\n",
        "import numpy as np\n",
        "import matplotlib.pyplot as plt\n",
        "from sklearn.feature_extraction.text import CountVectorizer\n",
        "from sklearn.model_selection import train_test_split\n",
        "from sklearn.metrics import accuracy_score, confusion_matrix\n",
        "from sklearn.svm import LinearSVC\n",
        "from sklearn.ensemble import RandomForestClassifier"
      ],
      "id": "ZBwcTfBIfOKN",
      "execution_count": null,
      "outputs": []
    },
    {
      "cell_type": "code",
      "metadata": {
        "colab": {
          "base_uri": "https://localhost:8080/"
        },
        "id": "dzNJ3r5LfOKO",
        "outputId": "77c286e9-dd68-4cc8-a1a6-492b4d0740da"
      },
      "source": [
        "from google.colab import  drive\n",
        "drive.mount(\"/drive\")\n",
        "data = pd.read_csv(\"/drive/My Drive/data.csv\")"
      ],
      "id": "dzNJ3r5LfOKO",
      "execution_count": null,
      "outputs": [
        {
          "output_type": "stream",
          "text": [
            "Drive already mounted at /drive; to attempt to forcibly remount, call drive.mount(\"/drive\", force_remount=True).\n"
          ],
          "name": "stdout"
        }
      ]
    },
    {
      "cell_type": "markdown",
      "metadata": {
        "id": "HhPE8Fx78drv"
      },
      "source": [
        "<b><h3>First Step:</h3>\n",
        "\n",
        "the first step of this note is using regression and look at the reviews which are closest to 0.5 to find out if they are ambiguous <br/>\n",
        "inspection will be done manually by the reading the reviews"
      ],
      "id": "HhPE8Fx78drv"
    },
    {
      "cell_type": "code",
      "metadata": {
        "id": "3-1y2XmVfOKP"
      },
      "source": [
        "def clean_text(txt):\n",
        "    \n",
        "    # set new line as a word\n",
        "    txt = re.sub(r'<br />', \" enter \", txt)  \n",
        "    txt =re.sub(r'<br/>', \" enter \", txt)\n",
        "\n",
        "    # remove all other hatml tags\n",
        "    txt = re.sub(r'<.*?>', ' ', txt)\n",
        "    \n",
        "    # set all text as lower case\n",
        "    txt = txt.strip().lower()\n",
        "    \n",
        "    # separate specific characters like punctuation from words for using word base algorithms\n",
        "    special_chars = '!\"\\/#$%&()*+,-./:;<=>?@[]^_`{|}~'\n",
        "    special_chars = special_chars + \"'\"\n",
        "    special_chars_dict = dict((c, \" \" + c + \" \") for c in special_chars)\n",
        "    str_map = str.maketrans(special_chars_dict)\n",
        "    txt = txt.translate(str_map)\n",
        "    \n",
        "    # remove digits and spaces\n",
        "    all_words = [word for word in txt.split(sep = \" \") if not word.isdigit()]\n",
        "    all_words_not_spaces = filter(lambda item: item, all_words)\n",
        "    txt = ' '.join(all_words_not_spaces)\n",
        "    txt = txt.strip()\n",
        "    \n",
        "    return txt"
      ],
      "id": "3-1y2XmVfOKP",
      "execution_count": null,
      "outputs": []
    },
    {
      "cell_type": "code",
      "metadata": {
        "id": "bwOfR9eWfOKR"
      },
      "source": [
        "X = data[\"review\"]\n",
        "y = data[\"sentiment\"].replace(\"positive\", 1).replace(\"negative\", 0)\n",
        "X_train, X_test, y_train, y_test = train_test_split(X, y, test_size=0.3)"
      ],
      "id": "bwOfR9eWfOKR",
      "execution_count": null,
      "outputs": []
    },
    {
      "cell_type": "code",
      "metadata": {
        "id": "bHoAI36OfOKR"
      },
      "source": [
        "vectorizer = CountVectorizer(\n",
        "    stop_words=\"english\",\n",
        "    preprocessor=clean_text\n",
        ")"
      ],
      "id": "bHoAI36OfOKR",
      "execution_count": null,
      "outputs": []
    },
    {
      "cell_type": "code",
      "metadata": {
        "id": "thbjrjJBfOKS"
      },
      "source": [
        "training_features = vectorizer.fit_transform(X_train)\n",
        "test_features = vectorizer.transform(X_test)"
      ],
      "id": "thbjrjJBfOKS",
      "execution_count": null,
      "outputs": []
    },
    {
      "cell_type": "code",
      "metadata": {
        "id": "yV65PcueAxm6"
      },
      "source": [
        "rf = RandomForestClassifier()\n",
        "rf.fit(training_features, y_train)\n",
        "y_pred_proba = rf.predict_proba(test_features)\n",
        "df = pd.DataFrame({\"reviews\": X_test, \"pred\": list(list(zip(*y_pred_proba))[1])})"
      ],
      "id": "yV65PcueAxm6",
      "execution_count": null,
      "outputs": []
    },
    {
      "cell_type": "code",
      "metadata": {
        "colab": {
          "base_uri": "https://localhost:8080/"
        },
        "id": "Cz00wAvJfOKU",
        "outputId": "54f7ea67-8c7f-43d4-ce7a-5a4a79549648"
      },
      "source": [
        "middle = 0.5\n",
        "ambigues_list = list(df.iloc[(df['pred']-middle).abs().argsort()[:3]][\"reviews\"])      \n",
        "\n",
        "for item in ambigues_list:\n",
        "    print(item)\n",
        "    print(\"\\n\")\n"
      ],
      "id": "Cz00wAvJfOKU",
      "execution_count": null,
      "outputs": [
        {
          "output_type": "stream",
          "text": [
            "I recently watched this again and there's another version which is shorter 1999. I get the feeling they are the same movie but I would like to know the difference.<br /><br />One is Japanese and no pikachu short is all I can come up with. Ohtherwise why vote for the same movie twice?? <br /><br />Prof Ivy was rather boring. She sounded as if she was almost asleep, no expression at all with the few lines she had.<br /><br />This was enjoyable enough but there wasn't much to it at all. <br /><br />A collector (whos after Lugia, he has no plan to destroy the world) and the usual characters who try to stop him because trying to capture Lugia causes a lot of destruction.<br /><br />The pokemon movies that follow are slightly better, deoxys (poke 7) is great, with no. 8 almost here.\n",
            "\n",
            "\n",
            "It's not easy making a movie with 18 different stories in it. Although 18 different international directors took the challenge, not everyone of them is good, some of them even boring. But in his entity, \"Paris, je t'aime\" is breathtaking, showing that, as \"Love Actually\" put it, 'love is all around', especially in the city of love. Here's a resumé (I'll try to make at as spoiler-free as possible) of the 18 different stories.<br /><br />MONTMARTRE - kind of a dull opening sequence, nothing really special about it. A man finds a parking spot, and sees a lot of odd couples walking by, wondering why he can't find a girl. And than, suddenly, a woman faints next to his car...<br /><br />QUAIS DE SEINE - another dull sequence, about three teenage boys who are searching for some 'piece of ass', when suddenly a Muslim girl trips right in front of them, receiving help from one of the boys. Really basic, but with a sweet heart to it.<br /><br />LES MARAIS - this was a huge disappointment! Although a love story between two boys with an artsy background could have been interesting by the great Van Sant. Eventually, everything that comes AFTER the monologue by Ulliel is good, everything before it is just annoying.<br /><br />TUILERIES - an entertaining sequence by the Coen brothers. Buscemi - without even saying one word - is mesmerizing and the whole sequence is just hilarious. This one kept me hooked until the very end, and this one also gets you truly hooked to the movie.<br /><br />LOIN DU 16IEME - a beautiful story too, even if the execution is poor, the heart is there. It's the story of an Hispanic woman who drops her child off, early in the morning, to take care of another suburban baby. Beautiful.<br /><br />PORTE DE CHOISY - this segment has got to be the strangest and weirdest from the whole movie. Some kind of shampoo salesman arrives in a Chinatown-lookalike place in Paris. If I understood it correctly, the story is about inner beauty, but I think I'm wrong.<br /><br />BASTILLE - a truly wonderful sequence. A man meets with his wife at a restaurant, to break up with her, so that he can run off with his mistress. But the wife has some devastating news. Pretty basic, but truly sad and beautiful! PLACE DES VICTOIRES - a sad sequence as well. Juliette Binoche plays a grieving mother. One night, she wakes up hearing her dead child. When she arrives at the location, a cowboy tells her she can give one last good-bye to her child. One of the best segments! TOUR EIFFEL - two mimes who fall in love could have been great, but, even though it has some nice cinematic tricks, the story isn't intriguing and not funny at all.<br /><br />PARC MONCEAU - a truly original and great sequence, one of the best of the movie! A young girl and an older man discuss their future and her fear for a certain man... Cuaron does a great directing job, and the actors are amazing! QUARTIER DES ENFANTS ROUGES - an American actress (Gyllenhaal) falls in love with her drug dealer. a beautiful segment again, with a very sad ending PLACE DES FETES - a woman comes to a homeless man, he starts talking romantic to her... because she is the love of his life. Beautiful, sad, shocking, romantic,... Place des Fêtes will make everyone cry.<br /><br />PIGALLE - a boring sequence between Ardant and Hoskins, who are looking for new thrills in their relationship... very unfunny and unromantic, Pigalle is a let-down.<br /><br />QUARTIER DE LA MADELEINE - bringing some diversity in the movie, QdlM is a relief. A young guy (Wood) finds a vampire killing a victim... The tourist and the vampire... fall in love! Dark, scary and oddly romantic, Madeleine is superb.<br /><br />PERE-LACHAISE - another let-down segment. Directed by Wes Craven and with stars as Mortimer and Sewell, it could have been great, but Père-Lachaise is just ordinary, not original at all.<br /><br />FAUBOURG SAINT-DENIS - the rumors are TRUE, Twyker's short film is beautiful, stunning and well done. A blind man picks up the phone, and hears from his girlfriend (Portman - truly stunning) that she breaks up with him. He reflects on their relationship.<br /><br />QUARTIER Latin - even though this segment has been co-directed by Depardieu and has such stars as Rowlands, Gazzara and Depardieu, this segment is a let-down too. Nothing happens, lack of chemistry between the actors.<br /><br />14TH ARRONDISSEMENT - the last sequence is hilarious and sad at the same time. An American tells in her French class about her trip to Paris. Her French is truly terrible, but at the end of the segment, she realizes that Paris is so much more than meets the eye.<br /><br />With Feist on the background, \"Paris, je t'aime\" ends in a sweet tone, not letting me down at all, even though some segments bored the hell out of me, the entity of the movie is great! A true cinematic experience for young and old. Paris, je t'aime vraiment!\n",
            "\n",
            "\n",
            "I voted 3 for this movie because it looks great as does all of Greenaways output. However it was his usual mix of \"art\" sex and pretentious crap.I know lots of people like this film but I grew tired of it VERY quickly. It is definitely not for everyone. The ubiquitous McGregor obviously took the part for crediblity's sake I guess but he really should not have wasted his time. I hate to consign anyone to pseud's corner but please.....!!! On the plus side it IS visually very attractive and I enjoyed the music but could not see it through to the end and I cannot say that for many movies. I usually watch the whole thing but this is unbearable!!\n",
            "\n",
            "\n"
          ],
          "name": "stdout"
        }
      ]
    },
    {
      "cell_type": "markdown",
      "metadata": {
        "id": "o7mQk9hSfOKW"
      },
      "source": [
        "<b><h3>conclusion for the first step</h3>\n",
        "\n",
        "- as expected all the inspected reviews are ambiguous, the last one is different but still it is ambiguous about the movie"
      ],
      "id": "o7mQk9hSfOKW"
    },
    {
      "cell_type": "markdown",
      "metadata": {
        "id": "h9tfHAJ49ePe"
      },
      "source": [
        "<b><h3>Second Step:</h3>\n",
        "\n",
        "the second step of this note is looking at the reviews which get the highest score in the regression and find out if they are clearly positive"
      ],
      "id": "h9tfHAJ49ePe"
    },
    {
      "cell_type": "code",
      "metadata": {
        "colab": {
          "base_uri": "https://localhost:8080/"
        },
        "id": "3QfjFsVbfOKX",
        "outputId": "30492f98-a0fe-488a-d039-3a8fd67f4caa"
      },
      "source": [
        "positive_list = list(df.nlargest(3, \"pred\")[\"reviews\"])      \n",
        "\n",
        "for item in positive_list:\n",
        "    print(item)\n",
        "    print(\"\\n\")"
      ],
      "id": "3QfjFsVbfOKX",
      "execution_count": null,
      "outputs": [
        {
          "output_type": "stream",
          "text": [
            "Loved today's show!!! It was a variety and not solely cooking (which would have been great too). Very stimulating and captivating, always keeping the viewer peeking around the corner to see what was coming up next. She is as down to earth and as personable as you get, like one of us which made the show all the more enjoyable. Special guests, who are friends as well made for a nice surprise too. Loved the 'first' theme and that the audience was invited to play along too. I must admit I was shocked to see her come in under her time limits on a few things, but she did it and by golly I'll be writing those recipes down. Saving time in the kitchen means more time with family. Those who haven't tuned in yet, find out what channel and the time, I assure you that you won't be disappointed.\n",
            "\n",
            "\n",
            "Loved today's show!!! It was a variety and not solely cooking (which would have been great too). Very stimulating and captivating, always keeping the viewer peeking around the corner to see what was coming up next. She is as down to earth and as personable as you get, like one of us which made the show all the more enjoyable. Special guests, who are friends as well made for a nice surprise too. Loved the 'first' theme and that the audience was invited to play along too. I must admit I was shocked to see her come in under her time limits on a few things, but she did it and by golly I'll be writing those recipes down. Saving time in the kitchen means more time with family. Those who haven't tuned in yet, find out what channel and the time, I assure you that you won't be disappointed.\n",
            "\n",
            "\n",
            "With all of the \"R\" movies out today, it's hard to find something you can take the whole family to see. My kids loved it. It was good clean fun. I would highly recommend it to anyone who wants to take the whole family out for a nice evening at the movies.\n",
            "\n",
            "\n"
          ],
          "name": "stdout"
        }
      ]
    },
    {
      "cell_type": "markdown",
      "metadata": {
        "id": "7gKeWzYwfOKY"
      },
      "source": [
        "<b><h3>conclusion for the second step</h3>\n",
        "\n",
        "- as expected all the inspected reviews are clearly positive\n",
        "\n",
        "- it is interesting to inspect the third review. it is not as easy its positivnace as the other two. for me it demanded some reading to understand its classification, but still the algorithm ranked it very high."
      ],
      "id": "7gKeWzYwfOKY"
    },
    {
      "cell_type": "markdown",
      "metadata": {
        "id": "nSywbf0t_aP2"
      },
      "source": [
        "<b><h3>Third Step:</h3>\n",
        "\n",
        "the third step of this note is looking at the reviews which get the lowest score in the regression and find out if they are clearly negative"
      ],
      "id": "nSywbf0t_aP2"
    },
    {
      "cell_type": "code",
      "metadata": {
        "colab": {
          "base_uri": "https://localhost:8080/"
        },
        "id": "RjG1AzcvfOKY",
        "outputId": "6717412d-d151-48d3-d740-a3c370404dd5"
      },
      "source": [
        "negative_list = list(df.nsmallest(3, \"pred\")[\"reviews\"])      \n",
        "\n",
        "for item in negative_list:\n",
        "    print(item)\n",
        "    print(\"\\n\")"
      ],
      "id": "RjG1AzcvfOKY",
      "execution_count": null,
      "outputs": [
        {
          "output_type": "stream",
          "text": [
            "Talk about rubbish! I can't think of one good thing in this movie. The screenplay was poor, the acting was terrible and the effects, well there were no effects. I can't believe the writer of this movie did Identity, everything in this movie made me sick to start to finish.<br /><br />The front cover of the video box shows a showman with shark like teeth and scary eyes. I looks like a scary villain, but like the old saying \"never judge a book by it's cover\", the whole villain looked like a cardboard cut out. One part in the film a girl gets killed by a salad tongs, terrible. The setting was bad enough, like they could of set the whole thing in Lapland but no, a tropical island instead.<br /><br />I took this movie as a spoof, which I think they wanted it to be but the only thing that made me laugh in a bad way was the tacky effects. You can argue that I haven't watched the first one, but seeing this I would be safe if I wouldn't attempted it.<br /><br />The biggest joke in this movie is the effects, the snowballs looked like they were home made, and that carrot was a complete embarrassment. If I would of guess the budget of this movie would of probably be between 8 to 9 pounds fifty. The producer in a last minute panic must of grabbed the actors for the street gave them the script told them they have 6 minutes to practise these lines and shoot on a island.<br /><br />Lastly the acting in the film was painful, it was like the actors forgot their ordinary lines and made them up the way through.<br /><br />In conclusion I give this film: 0 stars out of 5\n",
            "\n",
            "\n",
            "So that´s what I called a bad, bad film... Poor acting, poor directing, terrible writing!!!! I just can´t stop laughing at some scenes, because the story is meaningless!!! Don´t waste your time watching this film... Well, I must recognize it has one or two good ideas but it´s sooooo badly writen...\n",
            "\n",
            "\n",
            "Aside from the horrendous acting and the ridiculous and ludicrous plot, this movie wasn't too bad. Unfortunately, that doesn't leave much movie not to suck. Do not waste your time on this film, even if you find yourself suffering from insomnia, as I did. Watch an infomercial instead.\n",
            "\n",
            "\n"
          ],
          "name": "stdout"
        }
      ]
    },
    {
      "cell_type": "markdown",
      "metadata": {
        "id": "cv0SP-HOfOKZ"
      },
      "source": [
        "<b><h3>conclusion for the third step</h3>\n",
        "\n",
        "- as expected lowest ranked reviews are clearly negative\n",
        "\n",
        "- note that the word \"good\" appears in the first two reviews, as was already noted at note 1"
      ],
      "id": "cv0SP-HOfOKZ"
    },
    {
      "cell_type": "markdown",
      "metadata": {
        "id": "dnBWDJIlLLxc"
      },
      "source": [
        "<b><h2>general conclusion for this notebook</h2>\n",
        "\n",
        "at list for the small number of samples inspected in this test, regression results near the edges worked really nice and gave the expected results"
      ],
      "id": "dnBWDJIlLLxc"
    }
  ]
}